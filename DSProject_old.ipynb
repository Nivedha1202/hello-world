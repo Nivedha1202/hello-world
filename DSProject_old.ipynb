{
 "cells": [
  {
   "cell_type": "markdown",
   "id": "dbb2634d",
   "metadata": {},
   "source": [
    "Importing Libraries"
   ]
  },
  {
   "cell_type": "code",
   "execution_count": 1,
   "id": "391c8ca2",
   "metadata": {},
   "outputs": [],
   "source": [
    "import numpy as np\n",
    "import pandas as pd\n",
    "import matplotlib.pyplot as plt\n",
    "import seaborn as sns"
   ]
  },
  {
   "cell_type": "markdown",
   "id": "82083bed",
   "metadata": {},
   "source": [
    "Reading a csv file"
   ]
  },
  {
   "cell_type": "code",
   "execution_count": 2,
   "id": "980feadf",
   "metadata": {},
   "outputs": [],
   "source": [
    "df = pd.read_csv('downloads/books.csv')"
   ]
  },
  {
   "cell_type": "markdown",
   "id": "cbe852a9",
   "metadata": {},
   "source": [
    "Number of rows and columns"
   ]
  },
  {
   "cell_type": "code",
   "execution_count": 3,
   "id": "d7091fa7",
   "metadata": {},
   "outputs": [
    {
     "data": {
      "text/plain": [
       "(399, 24)"
      ]
     },
     "execution_count": 3,
     "metadata": {},
     "output_type": "execute_result"
    }
   ],
   "source": [
    "df.shape"
   ]
  },
  {
   "cell_type": "markdown",
   "id": "1df50355",
   "metadata": {},
   "source": [
    "Number of books that do not have an original title"
   ]
  },
  {
   "cell_type": "code",
   "execution_count": 5,
   "id": "ba75707f",
   "metadata": {},
   "outputs": [
    {
     "name": "stdout",
     "output_type": "stream",
     "text": [
      "Number of books without orignal title: 363\n"
     ]
    }
   ],
   "source": [
    "missing_original_titles_count = df['original_title'].count()\n",
    "print(f'Number of books without orignal title: {missing_original_titles_count}')"
   ]
  },
  {
   "cell_type": "code",
   "execution_count": 6,
   "id": "531d8cc1",
   "metadata": {},
   "outputs": [
    {
     "data": {
      "text/plain": [
       "<bound method NDFrame.describe of      book_id  goodreads_book_id  best_book_id   work_id  books_count  \\\n",
       "0         15              48855         48855   3532896          710   \n",
       "1         40              19501         19501   3352398          185   \n",
       "2         81               7445          7445   2944133           92   \n",
       "3         82               1845          1845   3284484          108   \n",
       "4         87               1617          1617    265616          109   \n",
       "..       ...                ...           ...       ...          ...   \n",
       "394     9788           23399022      23399022  42955411           21   \n",
       "395     9847           20685373      20685373  40000267           18   \n",
       "396     9887             503248        503248    491309           21   \n",
       "397     9960             127970        127970   1066433           26   \n",
       "398     9968             554674        554674    548132           34   \n",
       "\n",
       "           isbn        isbn13  \\\n",
       "0     553296981  9.780553e+12   \n",
       "1     143038419  9.780143e+12   \n",
       "2    074324754X  9.780743e+12   \n",
       "3     385486804  9.780385e+12   \n",
       "4     374500010  9.780375e+12   \n",
       "..          ...           ...   \n",
       "394   525427651  9.780525e+12   \n",
       "395   307720659  9.780308e+12   \n",
       "396   307381269  9.780307e+12   \n",
       "397   739416383  9.780739e+12   \n",
       "398    60005777  9.780060e+12   \n",
       "\n",
       "                                               authors  \\\n",
       "0    Anne Frank, Eleanor Roosevelt, B.M. Mooyaart-D...   \n",
       "1                                    Elizabeth Gilbert   \n",
       "2                                      Jeannette Walls   \n",
       "3                                         Jon Krakauer   \n",
       "4                           Elie Wiesel, Marion Wiesel   \n",
       "..                                                 ...   \n",
       "394  Amanda Berry, Gina DeJesus, Mary Jordan, Kevin...   \n",
       "395                                           Suki Kim   \n",
       "396                      Howard Dully, Charles Fleming   \n",
       "397                                         Terry Ryan   \n",
       "398                            Maria Augusta von Trapp   \n",
       "\n",
       "     original_publication_year  \\\n",
       "0                       1947.0   \n",
       "1                       2006.0   \n",
       "2                       2005.0   \n",
       "3                       1996.0   \n",
       "4                       1958.0   \n",
       "..                         ...   \n",
       "394                     2015.0   \n",
       "395                     2014.0   \n",
       "396                     2007.0   \n",
       "397                     2001.0   \n",
       "398                     1949.0   \n",
       "\n",
       "                                        original_title  ...  \\\n",
       "0    Het Achterhuis: Dagboekbrieven 14 juni 1942 - ...  ...   \n",
       "1    Eat, pray, love: one woman's search for everyt...  ...   \n",
       "2                                     The Glass Castle  ...   \n",
       "3                                        Into the Wild  ...   \n",
       "4                              Un di Velt Hot Geshvign  ...   \n",
       "..                                                 ...  ...   \n",
       "394                                               Hope  ...   \n",
       "395  Without You, There Is No Us: My Time with the ...  ...   \n",
       "396                                        My Lobotomy  ...   \n",
       "397  The Prize Winner of Defiance, Ohio: How My Mot...  ...   \n",
       "398              The Story of the Trapp Family Singers  ...   \n",
       "\n",
       "    work_ratings_count work_text_reviews_count  ratings_1  ratings_2  \\\n",
       "0              2024493                   20825      45225      91270   \n",
       "1              1206597                   49714     100373     149549   \n",
       "2               637866                   40777       7901      18922   \n",
       "3               665377                   17299      19229      35567   \n",
       "4               707879                   22001       7761      18539   \n",
       "..                 ...                     ...        ...        ...   \n",
       "394               9102                     927        101        195   \n",
       "395              10002                    1426        145        523   \n",
       "396               9615                    1247        142        788   \n",
       "397              11151                    1849        118        498   \n",
       "398              10234                     599        297        518   \n",
       "\n",
       "     ratings_3  ratings_4  ratings_5  \\\n",
       "0       355756     656870     875372   \n",
       "1       310212     332191     314272   \n",
       "2        85191     227750     298102   \n",
       "3       135199     248287     227095   \n",
       "4        90575     230227     360777   \n",
       "..         ...        ...        ...   \n",
       "394       1180       3301       4325   \n",
       "395       2526       4328       2480   \n",
       "396       2979       3585       2121   \n",
       "397       2739       4816       2980   \n",
       "398       2345       3406       3668   \n",
       "\n",
       "                                             image_url  \\\n",
       "0    https://images.gr-assets.com/books/1358276407m...   \n",
       "1    https://images.gr-assets.com/books/1503066414m...   \n",
       "2    https://images.gr-assets.com/books/1400930557m...   \n",
       "3    https://images.gr-assets.com/books/1403173986m...   \n",
       "4    https://images.gr-assets.com/books/1473495285m...   \n",
       "..                                                 ...   \n",
       "394  https://images.gr-assets.com/books/1421708177m...   \n",
       "395  https://images.gr-assets.com/books/1405292426m...   \n",
       "396  https://images.gr-assets.com/books/1320449273m...   \n",
       "397  https://s.gr-assets.com/assets/nophoto/book/11...   \n",
       "398  https://s.gr-assets.com/assets/nophoto/book/11...   \n",
       "\n",
       "                                       small_image_url  NonEnglish  \n",
       "0    https://images.gr-assets.com/books/1358276407s...           0  \n",
       "1    https://images.gr-assets.com/books/1503066414s...           0  \n",
       "2    https://images.gr-assets.com/books/1400930557s...           0  \n",
       "3    https://images.gr-assets.com/books/1403173986s...           0  \n",
       "4    https://images.gr-assets.com/books/1473495285s...           0  \n",
       "..                                                 ...         ...  \n",
       "394  https://images.gr-assets.com/books/1421708177s...           0  \n",
       "395  https://images.gr-assets.com/books/1405292426s...           0  \n",
       "396  https://images.gr-assets.com/books/1320449273s...           0  \n",
       "397  https://s.gr-assets.com/assets/nophoto/book/50...           0  \n",
       "398  https://s.gr-assets.com/assets/nophoto/book/50...           0  \n",
       "\n",
       "[399 rows x 24 columns]>"
      ]
     },
     "execution_count": 6,
     "metadata": {},
     "output_type": "execute_result"
    }
   ],
   "source": [
    "df.describe"
   ]
  },
  {
   "cell_type": "markdown",
   "id": "bfdf3d88",
   "metadata": {},
   "source": [
    "Number of unique books present in the dataset"
   ]
  },
  {
   "cell_type": "code",
   "execution_count": 26,
   "id": "2ee0f568",
   "metadata": {},
   "outputs": [
    {
     "name": "stdout",
     "output_type": "stream",
     "text": [
      "Number of unique books (after removing null values in original_title) : 363\n"
     ]
    }
   ],
   "source": [
    "df = df[df['original_title'].notnull()]\n",
    "unique_books_count = df['book_id'].nunique()\n",
    "print(f'Number of unique books (after removing null values in original_title) : {unique_books_count}')"
   ]
  },
  {
   "cell_type": "code",
   "execution_count": 27,
   "id": "67bea681",
   "metadata": {},
   "outputs": [
    {
     "name": "stdout",
     "output_type": "stream",
     "text": [
      "The average rating of all the books in the dataset : 3.99\n"
     ]
    }
   ],
   "source": [
    "average_rating = df['average_rating'].mean()\n",
    "print(f'The average rating of all the books in the dataset : {average_rating:.2f}')"
   ]
  },
  {
   "cell_type": "code",
   "execution_count": 28,
   "id": "dc242304",
   "metadata": {},
   "outputs": [
    {
     "name": "stdout",
     "output_type": "stream",
     "text": [
      "Number of books published in the year 2000: 7\n"
     ]
    }
   ],
   "source": [
    "books_published_2000 = df[df['original_publication_year'] == 2000].shape[0]\n",
    "\n",
    "print(\"Number of books published in the year 2000:\", books_published_2000)\n"
   ]
  },
  {
   "cell_type": "code",
   "execution_count": 11,
   "id": "392f0e66",
   "metadata": {},
   "outputs": [
    {
     "name": "stdout",
     "output_type": "stream",
     "text": [
      "Book with maximum number of ratings: \"The Diary of a Young Girl\"\n"
     ]
    }
   ],
   "source": [
    "max_ratings_book = df[df['work_ratings_count'] == df['work_ratings_count'].max()]\n",
    "max_ratings_title = max_ratings_book['title'].values[0]\n",
    "print(f'Book with maximum number of ratings: \"{max_ratings_title}\"')"
   ]
  },
  {
   "cell_type": "code",
   "execution_count": 9,
   "id": "99ff8a17",
   "metadata": {},
   "outputs": [
    {
     "data": {
      "image/png": "[encoded data removed]",
      "text/plain": [
       "<Figure size 640x480 with 1 Axes>"
      ]
     },
     "metadata": {},
     "output_type": "display_data"
    }
   ],
   "source": [
    "buckets = [0, 0.5, 1.0, 1.5, 2.0, 2.5, 3.0, 3.5, 4.0, 4.5, 5.0]\n",
    "df['rating_bucket'] = pd.cut(df['average_rating'], bins=buckets, right=False)\n",
    "books_in_buckets = df.groupby('rating_bucket').size()\n",
    "\n",
    "books_in_buckets.plot(kind='bar', color='skyblue')\n",
    "plt.xlabel('Rating Bucket')\n",
    "plt.ylabel('Number of Books')\n",
    "plt.title('Total Number of Books in Each Rating Bucket')\n",
    "plt.xticks(rotation=45)\n",
    "plt.tight_layout()\n",
    "plt.show()"
   ]
  }
 ],
 "metadata": {
  "kernelspec": {
   "display_name": "Python 3 (ipykernel)",
   "language": "python",
   "name": "python3"
  },
  "language_info": {
   "codemirror_mode": {
    "name": "ipython",
    "version": 3
   },
   "file_extension": ".py",
   "mimetype": "text/x-python",
   "name": "python",
   "nbconvert_exporter": "python",
   "pygments_lexer": "ipython3",
   "version": "3.11.5"
  }
 },
 "nbformat": 4,
 "nbformat_minor": 5
}
